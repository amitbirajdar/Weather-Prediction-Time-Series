{
  "nbformat": 4,
  "nbformat_minor": 0,
  "metadata": {
    "colab": {
      "name": "ARIMA.ipynb",
      "provenance": []
    },
    "kernelspec": {
      "name": "python3",
      "display_name": "Python 3"
    },
    "language_info": {
      "name": "python"
    }
  },
  "cells": [
    {
      "cell_type": "code",
      "metadata": {
        "id": "Yb6xG3O3a27Q"
      },
      "source": [
        "'''Importing necessary libraries'''\n",
        "\n",
        "import pandas as pd\n",
        "import numpy as np\n",
        "import matplotlib.pyplot as plt\n",
        "from sklearn.model_selection import train_test_split\n",
        "\n",
        "import statsmodels.api as sm\n",
        "from statsmodels.tsa.stattools import adfuller\n",
        "from statsmodels.graphics.tsaplots import plot_acf, plot_pacf\n",
        "from statsmodels.tsa.arima_model import ARIMA"
      ],
      "execution_count": null,
      "outputs": []
    },
    {
      "cell_type": "code",
      "metadata": {
        "id": "e3sfEc_bbCY9"
      },
      "source": [
        "'''reading data from csv'''\n",
        "\n",
        "data = pd.read_csv('/content/drive/MyDrive/Problem Set 6/ps6_trainvalid.csv')"
      ],
      "execution_count": null,
      "outputs": []
    },
    {
      "cell_type": "markdown",
      "metadata": {
        "id": "SI2dvmi1PFeK"
      },
      "source": [
        "# Data Exploration and Preprocessing"
      ]
    },
    {
      "cell_type": "code",
      "metadata": {
        "id": "wn2rmJVBv3La"
      },
      "source": [
        "'''converting datetime column to datetime type and setting it as index'''\n",
        "\n",
        "data.datetime = pd.to_datetime(data.datetime)\n",
        "data.set_index(data.datetime, inplace=True)\n",
        "data.drop('datetime', inplace=True, axis=1)\n",
        "data"
      ],
      "execution_count": null,
      "outputs": []
    },
    {
      "cell_type": "code",
      "metadata": {
        "id": "8B9xSiGTbHr4"
      },
      "source": [
        "'''checking for null values in the dataset'''\n",
        "\n",
        "data.isnull().sum()"
      ],
      "execution_count": null,
      "outputs": []
    },
    {
      "cell_type": "code",
      "metadata": {
        "id": "SB2n_XqNczFN"
      },
      "source": [
        "'''checking distribution of numerical features'''\n",
        "\n",
        "data.describe()"
      ],
      "execution_count": null,
      "outputs": []
    },
    {
      "cell_type": "code",
      "metadata": {
        "id": "gq1qqkJnbPfN"
      },
      "source": [
        "'''visualizing distributions with histograms'''\n",
        "\n",
        "plt.figure(figsize=(15,5))\n",
        "plt.subplot(1,4,1)\n",
        "plt.hist(data['temperature'], bins=25)\n",
        "plt.title('Temperature')\n",
        "\n",
        "plt.subplot(1,4,2)\n",
        "plt.hist(data['humidity'], bins=25)\n",
        "plt.title('Humidity')\n",
        "\n",
        "plt.subplot(1,4,3)\n",
        "plt.hist(data['pressure'], bins=50)\n",
        "plt.title('Pressure')\n",
        "\n",
        "plt.subplot(1,4,4)\n",
        "plt.hist(data['wind_speed'], bins=50)\n",
        "plt.title('Wind Speed')"
      ],
      "execution_count": null,
      "outputs": []
    },
    {
      "cell_type": "code",
      "metadata": {
        "id": "N_uSIAJZbclg"
      },
      "source": [
        "'''substituting null values with mean'''\n",
        "\n",
        "temp_mean = data.temperature.mean()\n",
        "humidity_mean = data.humidity.mean()\n",
        "pressure_mean = data.pressure.mean()\n",
        "\n",
        "data.temperature = data.temperature.fillna(temp_mean)\n",
        "data.humidity = data.humidity.fillna(humidity_mean)\n",
        "data.pressure = data.pressure.fillna(pressure_mean)"
      ],
      "execution_count": null,
      "outputs": []
    },
    {
      "cell_type": "code",
      "metadata": {
        "id": "TV4fpka7dDBN"
      },
      "source": [
        "'''filling null value in weather with most common weather type'''\n",
        "\n",
        "data.weather = data.weather.fillna('sky is clear')\n",
        "data.wind_direction = data.wind_direction.fillna(0.0)\n",
        "data.wind_speed = data.wind_speed.fillna(0.0)"
      ],
      "execution_count": null,
      "outputs": []
    },
    {
      "cell_type": "code",
      "metadata": {
        "id": "VwYbXFT8GIUa"
      },
      "source": [
        "'''since wind direction is in degrees, we split it into its components - sin and cos and create two respective columns'''\n",
        "\n",
        "data['cos_wind'] = np.cos((data.wind_direction.values.reshape(len(data), 1)*np.pi)/180)\n",
        "data['sin_wind'] = np.sin((data.wind_direction.values.reshape(len(data), 1)*np.pi)/180)"
      ],
      "execution_count": null,
      "outputs": []
    },
    {
      "cell_type": "code",
      "metadata": {
        "id": "PI_0a6v0cw40"
      },
      "source": [
        "'''checking final dataset for any null values'''\n",
        "\n",
        "data.info()"
      ],
      "execution_count": null,
      "outputs": []
    },
    {
      "cell_type": "code",
      "metadata": {
        "id": "J0phv2uzJE94"
      },
      "source": [
        "'''dropping wind_direction since it is no longer needed as we have sin and cos components for it'''\n",
        "\n",
        "data = data.drop('wind_direction', axis=1)\n",
        "data.head()"
      ],
      "execution_count": null,
      "outputs": []
    },
    {
      "cell_type": "code",
      "metadata": {
        "id": "qWIeL4rmE7N2"
      },
      "source": [
        "# '''scaling numerical features into a range of -1 to +1 as a standardization technique'''\n",
        "\n",
        "# from sklearn.preprocessing import MinMaxScaler\n",
        "# scaler = MinMaxScaler(feature_range=(-1,1))\n",
        "# data[['temperature','pressure','humidity','wind_speed']] = scaler.fit_transform(data[['temperature','pressure','humidity','wind_speed']])\n",
        "# data.head()"
      ],
      "execution_count": null,
      "outputs": []
    },
    {
      "cell_type": "code",
      "metadata": {
        "id": "oiCJDr836K1c"
      },
      "source": [
        "'''plotting temperature with respect to time'''\n",
        "\n",
        "plt.figure(figsize=(25,5))\n",
        "data['temperature'].plot()\n",
        "plt.xlabel('Time')\n",
        "plt.ylabel('Temperature')"
      ],
      "execution_count": null,
      "outputs": []
    },
    {
      "cell_type": "code",
      "metadata": {
        "id": "BzbCdd4-xFc1"
      },
      "source": [
        "'''calculating rolling mean with a window of 12 hours'''\n",
        "\n",
        "data['rolling_mean'] = data['temperature'].rolling(12).mean()\n",
        "data['std_dev'] = data['temperature'].rolling(12).std()"
      ],
      "execution_count": null,
      "outputs": []
    },
    {
      "cell_type": "markdown",
      "metadata": {
        "id": "EderWjcXP4HY"
      },
      "source": [
        "\n",
        "\n",
        "---\n",
        "\n",
        "Checking for stationarity of the timeseries\n",
        "\n",
        "---\n",
        "\n"
      ]
    },
    {
      "cell_type": "code",
      "metadata": {
        "id": "YUFfnNRIxP2U"
      },
      "source": [
        "'''plotting temperature along with its rolling mean'''\n",
        "\n",
        "\n",
        "plt.figure(figsize=(25,5))\n",
        "plt.plot(data.temperature[13:], 'b', label='original')\n",
        "plt.plot(data.rolling_mean[13::500], 'k', label='rolling_mean', linewidth=4)\n",
        "#plt.plot(data.std_dev[13::100], 'k', label='standard_deviation')\n",
        "plt.legend(loc='best')\n",
        "plt.xlabel('Time')\n",
        "plt.ylabel('Temperature')"
      ],
      "execution_count": null,
      "outputs": []
    },
    {
      "cell_type": "markdown",
      "metadata": {
        "id": "-Y0U_g8TzcqO"
      },
      "source": [
        "Looking at moving average, it does not look stationary, \n",
        "We confirm stationarity with Dickey Fuller Test"
      ]
    },
    {
      "cell_type": "code",
      "metadata": {
        "id": "eJ1U5NhaCVC0"
      },
      "source": [
        "'''implementing Dickey Fuller Test'''\n",
        "\n",
        "res = adfuller(data['temperature'].dropna())    \n",
        "studies = ['Test Statistic','p-value','#Lags Used','Number of Observations Used','Critical values']"
      ],
      "execution_count": null,
      "outputs": []
    },
    {
      "cell_type": "code",
      "metadata": {
        "id": "ddTATePU0d1t"
      },
      "source": [
        "'''Print statistics from the Dickey Fuller Test'''\n",
        "\n",
        "for value, label in zip(res, studies):\n",
        "  print(label,\": \",value)"
      ],
      "execution_count": null,
      "outputs": []
    },
    {
      "cell_type": "markdown",
      "metadata": {
        "id": "wQtZvS5T1B0w"
      },
      "source": [
        "Test-statistic < critical values therefore: stationary\n",
        "\n",
        "p-value very less therefore: reject null hypothesis -> stationary"
      ]
    },
    {
      "cell_type": "markdown",
      "metadata": {
        "id": "nQ-p6ZnsQT2i"
      },
      "source": [
        "\n",
        "\n",
        "---\n",
        "\n",
        "Plotting ACF and PACF plots\n",
        "Referred from: https://www.analyticsvidhya.com/blog/2016/02/time-series-forecasting-codes-python/\n",
        "\n",
        "\n",
        "---\n",
        "\n"
      ]
    },
    {
      "cell_type": "code",
      "metadata": {
        "id": "usycYtHn1wLU"
      },
      "source": [
        "fig = plt.figure(figsize=(12,8))\n",
        "ax1 = fig.add_subplot(211)\n",
        "fig = sm.graphics.tsa.plot_acf(data['temperature'],lags=56,ax=ax1)\n",
        "ax2 = fig.add_subplot(212)\n",
        "fig = sm.graphics.tsa.plot_pacf(data['temperature'],lags=56,ax=ax2)"
      ],
      "execution_count": null,
      "outputs": []
    },
    {
      "cell_type": "code",
      "metadata": {
        "id": "KNF4lmhI9bBu"
      },
      "source": [
        "# ACF and PACF \n",
        "from statsmodels.tsa.stattools import acf, pacf\n",
        "lag_acf = acf(data.temperature, nlags=20)\n",
        "lag_pacf = pacf(data.temperature, nlags=20, method='ols')\n",
        "# ACF\n",
        "plt.figure(figsize=(15,5))\n",
        "\n",
        "plt.subplot(121) \n",
        "plt.plot(lag_acf)\n",
        "plt.axhline(y=0,linestyle='--',color='gray')\n",
        "plt.axhline(y=-1.96/np.sqrt(len(data.temperature)),linestyle='--',color='gray')\n",
        "plt.axhline(y=1.96/np.sqrt(len(data.temperature)),linestyle='--',color='gray')\n",
        "plt.title('Autocorrelation Function')\n",
        "\n",
        "# PACF\n",
        "plt.subplot(122)\n",
        "plt.plot(lag_pacf)\n",
        "plt.axhline(y=0,linestyle='--',color='gray')\n",
        "plt.axhline(y=-1.96/np.sqrt(len(data.temperature)),linestyle='--',color='gray')\n",
        "plt.axhline(y=1.96/np.sqrt(len(data.temperature)),linestyle='--',color='gray')\n",
        "plt.title('Partial Autocorrelation Function')\n",
        "plt.tight_layout()"
      ],
      "execution_count": null,
      "outputs": []
    },
    {
      "cell_type": "markdown",
      "metadata": {
        "id": "y00X7afHQg_r"
      },
      "source": [
        "# ARIMA Model Implementation"
      ]
    },
    {
      "cell_type": "code",
      "metadata": {
        "id": "c7RPHgpbSILz"
      },
      "source": [
        "train_index = int(len(data.temperature)*0.8)\n",
        "train_data = data.temperature[:train_index]\n",
        "test_data = data.temperature[train_index:]\n",
        "train_data.shape, test_data.shape"
      ],
      "execution_count": null,
      "outputs": []
    },
    {
      "cell_type": "code",
      "metadata": {
        "id": "FxAgPVRoCU9W"
      },
      "source": [
        "'''order represents p, d and q values inferred from ACF (q) and PACF(p) plots'''\n",
        "\n",
        "model = ARIMA(train_data, order=(2, 0, 1))\n",
        "results_AR = model.fit(disp=-1)"
      ],
      "execution_count": null,
      "outputs": []
    },
    {
      "cell_type": "code",
      "metadata": {
        "id": "qOzH2cGf6PW9"
      },
      "source": [
        "'''Calculating mean absolute error for predictions'''\n",
        "\n",
        "from sklearn.metrics import mean_absolute_error\n",
        "mae = mean_absolute_error(results_AR.fittedvalues, train_data)\n",
        "plt.plot(results_AR.fittedvalues, color='red')\n",
        "plt.title('MAE: %.4f'%mae)"
      ],
      "execution_count": null,
      "outputs": []
    },
    {
      "cell_type": "code",
      "metadata": {
        "id": "zxs5k_r0CU4f"
      },
      "source": [
        "'''restoring the timeseries characteristics using SARIMA'''\n",
        "\n",
        "model1=sm.tsa.statespace.SARIMAX(data['temperature'],order=(2, 0, 1),seasonal_order=(2,0,1,12))\n",
        "final_results=model1.fit()"
      ],
      "execution_count": null,
      "outputs": []
    },
    {
      "cell_type": "code",
      "metadata": {
        "id": "fQl3KfrNCU04"
      },
      "source": [
        "'''forecasting for future values'''\n",
        "\n",
        "data['forecast_seasonal']=final_results.predict(start=train_index,end=45013,dynamic=False)\n",
        "\n",
        "plt.figure(figsize=(15,5))\n",
        "plt.plot(data.temperature, label='original')\n",
        "plt.plot(data.forecast_seasonal, label='prediction')\n",
        "plt.legend(loc='best')"
      ],
      "execution_count": null,
      "outputs": []
    },
    {
      "cell_type": "code",
      "metadata": {
        "id": "vMlQ_9vUsLvu"
      },
      "source": [
        "forecast_len = len(data) - len(train_data)\n",
        "forecast = results_AR.forecast(forecast_len, alpha=0.05)"
      ],
      "execution_count": null,
      "outputs": []
    },
    {
      "cell_type": "code",
      "metadata": {
        "id": "w744ei4AU7mn"
      },
      "source": [
        "mae = np.mean(np.abs(forecast[0] - test_data))\n",
        "mae"
      ],
      "execution_count": null,
      "outputs": []
    },
    {
      "cell_type": "code",
      "metadata": {
        "id": "RP7hWiVQVCZ6"
      },
      "source": [
        ""
      ],
      "execution_count": null,
      "outputs": []
    }
  ]
}